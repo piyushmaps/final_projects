{
 "cells": [
  {
   "cell_type": "code",
   "execution_count": 75,
   "metadata": {},
   "outputs": [],
   "source": [
    "import pandas as pd\n",
    "import numpy as np\n",
    "import seaborn as sns\n",
    "import matplotlib.pyplot as plt\n",
    "from sklearn import preprocessing\n",
    "import scipy \n",
    "from scipy.stats import zscore\n",
    "from sklearn.metrics import accuracy_score,classification_report,confusion_matrix,roc_auc_score,roc_curve\n",
    "from sklearn.impute import SimpleImputer\n",
    "from sklearn.preprocessing import StandardScaler\n",
    "from sklearn.linear_model import LogisticRegression\n",
    "from sklearn.model_selection import train_test_split\n",
    "from sklearn.naive_bayes import GaussianNB\n",
    "from sklearn.neighbors import KNeighborsClassifier\n",
    "from sklearn.svm import SVC\n",
    "from sklearn.tree import DecisionTreeClassifier\n",
    "from sklearn.ensemble import AdaBoostClassifier,GradientBoostingClassifier, RandomForestClassifier\n",
    "from sklearn.model_selection import cross_val_score,GridSearchCV\n",
    "from sklearn.decomposition import PCA\n",
    "import warnings\n",
    "warnings.filterwarnings(\"ignore\")"
   ]
  },
  {
   "cell_type": "code",
   "execution_count": 3,
   "metadata": {},
   "outputs": [
    {
     "data": {
      "text/html": [
       "<div>\n",
       "<style scoped>\n",
       "    .dataframe tbody tr th:only-of-type {\n",
       "        vertical-align: middle;\n",
       "    }\n",
       "\n",
       "    .dataframe tbody tr th {\n",
       "        vertical-align: top;\n",
       "    }\n",
       "\n",
       "    .dataframe thead th {\n",
       "        text-align: right;\n",
       "    }\n",
       "</style>\n",
       "<table border=\"1\" class=\"dataframe\">\n",
       "  <thead>\n",
       "    <tr style=\"text-align: right;\">\n",
       "      <th></th>\n",
       "      <th>age</th>\n",
       "      <th>sex</th>\n",
       "      <th>cp</th>\n",
       "      <th>trestbps</th>\n",
       "      <th>chol</th>\n",
       "      <th>fbs</th>\n",
       "      <th>restecg</th>\n",
       "      <th>thalach</th>\n",
       "      <th>exang</th>\n",
       "      <th>oldpeak</th>\n",
       "      <th>slope</th>\n",
       "      <th>ca</th>\n",
       "      <th>thal</th>\n",
       "      <th>num</th>\n",
       "    </tr>\n",
       "  </thead>\n",
       "  <tbody>\n",
       "    <tr>\n",
       "      <th>0</th>\n",
       "      <td>63</td>\n",
       "      <td>1</td>\n",
       "      <td>4</td>\n",
       "      <td>140</td>\n",
       "      <td>260</td>\n",
       "      <td>0</td>\n",
       "      <td>1</td>\n",
       "      <td>112</td>\n",
       "      <td>1</td>\n",
       "      <td>3</td>\n",
       "      <td>2</td>\n",
       "      <td>?</td>\n",
       "      <td>?</td>\n",
       "      <td>2</td>\n",
       "    </tr>\n",
       "    <tr>\n",
       "      <th>1</th>\n",
       "      <td>44</td>\n",
       "      <td>1</td>\n",
       "      <td>4</td>\n",
       "      <td>130</td>\n",
       "      <td>209</td>\n",
       "      <td>0</td>\n",
       "      <td>1</td>\n",
       "      <td>127</td>\n",
       "      <td>0</td>\n",
       "      <td>0</td>\n",
       "      <td>?</td>\n",
       "      <td>?</td>\n",
       "      <td>?</td>\n",
       "      <td>0</td>\n",
       "    </tr>\n",
       "    <tr>\n",
       "      <th>2</th>\n",
       "      <td>60</td>\n",
       "      <td>1</td>\n",
       "      <td>4</td>\n",
       "      <td>132</td>\n",
       "      <td>218</td>\n",
       "      <td>0</td>\n",
       "      <td>1</td>\n",
       "      <td>140</td>\n",
       "      <td>1</td>\n",
       "      <td>1.5</td>\n",
       "      <td>3</td>\n",
       "      <td>?</td>\n",
       "      <td>?</td>\n",
       "      <td>2</td>\n",
       "    </tr>\n",
       "    <tr>\n",
       "      <th>3</th>\n",
       "      <td>55</td>\n",
       "      <td>1</td>\n",
       "      <td>4</td>\n",
       "      <td>142</td>\n",
       "      <td>228</td>\n",
       "      <td>0</td>\n",
       "      <td>1</td>\n",
       "      <td>149</td>\n",
       "      <td>1</td>\n",
       "      <td>2.5</td>\n",
       "      <td>1</td>\n",
       "      <td>?</td>\n",
       "      <td>?</td>\n",
       "      <td>1</td>\n",
       "    </tr>\n",
       "    <tr>\n",
       "      <th>4</th>\n",
       "      <td>66</td>\n",
       "      <td>1</td>\n",
       "      <td>3</td>\n",
       "      <td>110</td>\n",
       "      <td>213</td>\n",
       "      <td>1</td>\n",
       "      <td>2</td>\n",
       "      <td>99</td>\n",
       "      <td>1</td>\n",
       "      <td>1.3</td>\n",
       "      <td>2</td>\n",
       "      <td>?</td>\n",
       "      <td>?</td>\n",
       "      <td>0</td>\n",
       "    </tr>\n",
       "    <tr>\n",
       "      <th>...</th>\n",
       "      <td>...</td>\n",
       "      <td>...</td>\n",
       "      <td>...</td>\n",
       "      <td>...</td>\n",
       "      <td>...</td>\n",
       "      <td>...</td>\n",
       "      <td>...</td>\n",
       "      <td>...</td>\n",
       "      <td>...</td>\n",
       "      <td>...</td>\n",
       "      <td>...</td>\n",
       "      <td>...</td>\n",
       "      <td>...</td>\n",
       "      <td>...</td>\n",
       "    </tr>\n",
       "    <tr>\n",
       "      <th>195</th>\n",
       "      <td>54</td>\n",
       "      <td>0</td>\n",
       "      <td>4</td>\n",
       "      <td>127</td>\n",
       "      <td>333</td>\n",
       "      <td>1</td>\n",
       "      <td>1</td>\n",
       "      <td>154</td>\n",
       "      <td>0</td>\n",
       "      <td>0</td>\n",
       "      <td>?</td>\n",
       "      <td>?</td>\n",
       "      <td>?</td>\n",
       "      <td>1</td>\n",
       "    </tr>\n",
       "    <tr>\n",
       "      <th>196</th>\n",
       "      <td>62</td>\n",
       "      <td>1</td>\n",
       "      <td>1</td>\n",
       "      <td>?</td>\n",
       "      <td>139</td>\n",
       "      <td>0</td>\n",
       "      <td>1</td>\n",
       "      <td>?</td>\n",
       "      <td>?</td>\n",
       "      <td>?</td>\n",
       "      <td>?</td>\n",
       "      <td>?</td>\n",
       "      <td>?</td>\n",
       "      <td>0</td>\n",
       "    </tr>\n",
       "    <tr>\n",
       "      <th>197</th>\n",
       "      <td>55</td>\n",
       "      <td>1</td>\n",
       "      <td>4</td>\n",
       "      <td>122</td>\n",
       "      <td>223</td>\n",
       "      <td>1</td>\n",
       "      <td>1</td>\n",
       "      <td>100</td>\n",
       "      <td>0</td>\n",
       "      <td>0</td>\n",
       "      <td>?</td>\n",
       "      <td>?</td>\n",
       "      <td>6</td>\n",
       "      <td>2</td>\n",
       "    </tr>\n",
       "    <tr>\n",
       "      <th>198</th>\n",
       "      <td>58</td>\n",
       "      <td>1</td>\n",
       "      <td>4</td>\n",
       "      <td>?</td>\n",
       "      <td>385</td>\n",
       "      <td>1</td>\n",
       "      <td>2</td>\n",
       "      <td>?</td>\n",
       "      <td>?</td>\n",
       "      <td>?</td>\n",
       "      <td>?</td>\n",
       "      <td>?</td>\n",
       "      <td>?</td>\n",
       "      <td>0</td>\n",
       "    </tr>\n",
       "    <tr>\n",
       "      <th>199</th>\n",
       "      <td>62</td>\n",
       "      <td>1</td>\n",
       "      <td>2</td>\n",
       "      <td>120</td>\n",
       "      <td>254</td>\n",
       "      <td>0</td>\n",
       "      <td>2</td>\n",
       "      <td>93</td>\n",
       "      <td>1</td>\n",
       "      <td>0</td>\n",
       "      <td>?</td>\n",
       "      <td>?</td>\n",
       "      <td>?</td>\n",
       "      <td>1</td>\n",
       "    </tr>\n",
       "  </tbody>\n",
       "</table>\n",
       "<p>200 rows × 14 columns</p>\n",
       "</div>"
      ],
      "text/plain": [
       "     age  sex  cp trestbps chol fbs  restecg thalach exang oldpeak slope ca  \\\n",
       "0     63    1   4      140  260   0        1     112     1       3     2  ?   \n",
       "1     44    1   4      130  209   0        1     127     0       0     ?  ?   \n",
       "2     60    1   4      132  218   0        1     140     1     1.5     3  ?   \n",
       "3     55    1   4      142  228   0        1     149     1     2.5     1  ?   \n",
       "4     66    1   3      110  213   1        2      99     1     1.3     2  ?   \n",
       "..   ...  ...  ..      ...  ...  ..      ...     ...   ...     ...   ... ..   \n",
       "195   54    0   4      127  333   1        1     154     0       0     ?  ?   \n",
       "196   62    1   1        ?  139   0        1       ?     ?       ?     ?  ?   \n",
       "197   55    1   4      122  223   1        1     100     0       0     ?  ?   \n",
       "198   58    1   4        ?  385   1        2       ?     ?       ?     ?  ?   \n",
       "199   62    1   2      120  254   0        2      93     1       0     ?  ?   \n",
       "\n",
       "    thal  num  \n",
       "0      ?    2  \n",
       "1      ?    0  \n",
       "2      ?    2  \n",
       "3      ?    1  \n",
       "4      ?    0  \n",
       "..   ...  ...  \n",
       "195    ?    1  \n",
       "196    ?    0  \n",
       "197    6    2  \n",
       "198    ?    0  \n",
       "199    ?    1  \n",
       "\n",
       "[200 rows x 14 columns]"
      ]
     },
     "execution_count": 3,
     "metadata": {},
     "output_type": "execute_result"
    }
   ],
   "source": [
    "df=pd.read_csv(\"heart_disease.csv\")\n",
    "df"
   ]
  },
  {
   "cell_type": "code",
   "execution_count": 6,
   "metadata": {},
   "outputs": [
    {
     "data": {
      "text/html": [
       "<div>\n",
       "<style scoped>\n",
       "    .dataframe tbody tr th:only-of-type {\n",
       "        vertical-align: middle;\n",
       "    }\n",
       "\n",
       "    .dataframe tbody tr th {\n",
       "        vertical-align: top;\n",
       "    }\n",
       "\n",
       "    .dataframe thead th {\n",
       "        text-align: right;\n",
       "    }\n",
       "</style>\n",
       "<table border=\"1\" class=\"dataframe\">\n",
       "  <thead>\n",
       "    <tr style=\"text-align: right;\">\n",
       "      <th></th>\n",
       "      <th>age</th>\n",
       "      <th>sex</th>\n",
       "      <th>cp</th>\n",
       "      <th>trestbps</th>\n",
       "      <th>chol</th>\n",
       "      <th>fbs</th>\n",
       "      <th>restecg</th>\n",
       "      <th>thalach</th>\n",
       "      <th>exang</th>\n",
       "      <th>oldpeak</th>\n",
       "      <th>slope</th>\n",
       "      <th>ca</th>\n",
       "      <th>thal</th>\n",
       "      <th>num</th>\n",
       "    </tr>\n",
       "  </thead>\n",
       "  <tbody>\n",
       "    <tr>\n",
       "      <th>0</th>\n",
       "      <td>63</td>\n",
       "      <td>1</td>\n",
       "      <td>4</td>\n",
       "      <td>140</td>\n",
       "      <td>260</td>\n",
       "      <td>0</td>\n",
       "      <td>1</td>\n",
       "      <td>112</td>\n",
       "      <td>1</td>\n",
       "      <td>3</td>\n",
       "      <td>2</td>\n",
       "      <td>?</td>\n",
       "      <td>?</td>\n",
       "      <td>2</td>\n",
       "    </tr>\n",
       "    <tr>\n",
       "      <th>1</th>\n",
       "      <td>44</td>\n",
       "      <td>1</td>\n",
       "      <td>4</td>\n",
       "      <td>130</td>\n",
       "      <td>209</td>\n",
       "      <td>0</td>\n",
       "      <td>1</td>\n",
       "      <td>127</td>\n",
       "      <td>0</td>\n",
       "      <td>0</td>\n",
       "      <td>?</td>\n",
       "      <td>?</td>\n",
       "      <td>?</td>\n",
       "      <td>0</td>\n",
       "    </tr>\n",
       "    <tr>\n",
       "      <th>2</th>\n",
       "      <td>60</td>\n",
       "      <td>1</td>\n",
       "      <td>4</td>\n",
       "      <td>132</td>\n",
       "      <td>218</td>\n",
       "      <td>0</td>\n",
       "      <td>1</td>\n",
       "      <td>140</td>\n",
       "      <td>1</td>\n",
       "      <td>1.5</td>\n",
       "      <td>3</td>\n",
       "      <td>?</td>\n",
       "      <td>?</td>\n",
       "      <td>2</td>\n",
       "    </tr>\n",
       "    <tr>\n",
       "      <th>3</th>\n",
       "      <td>55</td>\n",
       "      <td>1</td>\n",
       "      <td>4</td>\n",
       "      <td>142</td>\n",
       "      <td>228</td>\n",
       "      <td>0</td>\n",
       "      <td>1</td>\n",
       "      <td>149</td>\n",
       "      <td>1</td>\n",
       "      <td>2.5</td>\n",
       "      <td>1</td>\n",
       "      <td>?</td>\n",
       "      <td>?</td>\n",
       "      <td>1</td>\n",
       "    </tr>\n",
       "    <tr>\n",
       "      <th>4</th>\n",
       "      <td>66</td>\n",
       "      <td>1</td>\n",
       "      <td>3</td>\n",
       "      <td>110</td>\n",
       "      <td>213</td>\n",
       "      <td>1</td>\n",
       "      <td>2</td>\n",
       "      <td>99</td>\n",
       "      <td>1</td>\n",
       "      <td>1.3</td>\n",
       "      <td>2</td>\n",
       "      <td>?</td>\n",
       "      <td>?</td>\n",
       "      <td>0</td>\n",
       "    </tr>\n",
       "    <tr>\n",
       "      <th>5</th>\n",
       "      <td>66</td>\n",
       "      <td>1</td>\n",
       "      <td>3</td>\n",
       "      <td>120</td>\n",
       "      <td>0</td>\n",
       "      <td>0</td>\n",
       "      <td>1</td>\n",
       "      <td>120</td>\n",
       "      <td>0</td>\n",
       "      <td>-0.5</td>\n",
       "      <td>1</td>\n",
       "      <td>?</td>\n",
       "      <td>?</td>\n",
       "      <td>0</td>\n",
       "    </tr>\n",
       "    <tr>\n",
       "      <th>6</th>\n",
       "      <td>65</td>\n",
       "      <td>1</td>\n",
       "      <td>4</td>\n",
       "      <td>150</td>\n",
       "      <td>236</td>\n",
       "      <td>1</td>\n",
       "      <td>1</td>\n",
       "      <td>105</td>\n",
       "      <td>1</td>\n",
       "      <td>0</td>\n",
       "      <td>?</td>\n",
       "      <td>?</td>\n",
       "      <td>?</td>\n",
       "      <td>3</td>\n",
       "    </tr>\n",
       "    <tr>\n",
       "      <th>7</th>\n",
       "      <td>60</td>\n",
       "      <td>1</td>\n",
       "      <td>3</td>\n",
       "      <td>180</td>\n",
       "      <td>0</td>\n",
       "      <td>0</td>\n",
       "      <td>1</td>\n",
       "      <td>140</td>\n",
       "      <td>1</td>\n",
       "      <td>1.5</td>\n",
       "      <td>2</td>\n",
       "      <td>?</td>\n",
       "      <td>?</td>\n",
       "      <td>0</td>\n",
       "    </tr>\n",
       "    <tr>\n",
       "      <th>8</th>\n",
       "      <td>60</td>\n",
       "      <td>1</td>\n",
       "      <td>3</td>\n",
       "      <td>120</td>\n",
       "      <td>0</td>\n",
       "      <td>?</td>\n",
       "      <td>0</td>\n",
       "      <td>141</td>\n",
       "      <td>1</td>\n",
       "      <td>2</td>\n",
       "      <td>1</td>\n",
       "      <td>?</td>\n",
       "      <td>?</td>\n",
       "      <td>3</td>\n",
       "    </tr>\n",
       "    <tr>\n",
       "      <th>9</th>\n",
       "      <td>60</td>\n",
       "      <td>1</td>\n",
       "      <td>2</td>\n",
       "      <td>160</td>\n",
       "      <td>267</td>\n",
       "      <td>1</td>\n",
       "      <td>1</td>\n",
       "      <td>157</td>\n",
       "      <td>0</td>\n",
       "      <td>0.5</td>\n",
       "      <td>2</td>\n",
       "      <td>?</td>\n",
       "      <td>?</td>\n",
       "      <td>1</td>\n",
       "    </tr>\n",
       "  </tbody>\n",
       "</table>\n",
       "</div>"
      ],
      "text/plain": [
       "   age  sex  cp trestbps chol fbs  restecg thalach exang oldpeak slope ca  \\\n",
       "0   63    1   4      140  260   0        1     112     1       3     2  ?   \n",
       "1   44    1   4      130  209   0        1     127     0       0     ?  ?   \n",
       "2   60    1   4      132  218   0        1     140     1     1.5     3  ?   \n",
       "3   55    1   4      142  228   0        1     149     1     2.5     1  ?   \n",
       "4   66    1   3      110  213   1        2      99     1     1.3     2  ?   \n",
       "5   66    1   3      120    0   0        1     120     0    -0.5     1  ?   \n",
       "6   65    1   4      150  236   1        1     105     1       0     ?  ?   \n",
       "7   60    1   3      180    0   0        1     140     1     1.5     2  ?   \n",
       "8   60    1   3      120    0   ?        0     141     1       2     1  ?   \n",
       "9   60    1   2      160  267   1        1     157     0     0.5     2  ?   \n",
       "\n",
       "  thal  num  \n",
       "0    ?    2  \n",
       "1    ?    0  \n",
       "2    ?    2  \n",
       "3    ?    1  \n",
       "4    ?    0  \n",
       "5    ?    0  \n",
       "6    ?    3  \n",
       "7    ?    0  \n",
       "8    ?    3  \n",
       "9    ?    1  "
      ]
     },
     "execution_count": 6,
     "metadata": {},
     "output_type": "execute_result"
    }
   ],
   "source": [
    "df.head(10)"
   ]
  },
  {
   "cell_type": "code",
   "execution_count": 54,
   "metadata": {},
   "outputs": [
    {
     "data": {
      "text/html": [
       "<div>\n",
       "<style scoped>\n",
       "    .dataframe tbody tr th:only-of-type {\n",
       "        vertical-align: middle;\n",
       "    }\n",
       "\n",
       "    .dataframe tbody tr th {\n",
       "        vertical-align: top;\n",
       "    }\n",
       "\n",
       "    .dataframe thead th {\n",
       "        text-align: right;\n",
       "    }\n",
       "</style>\n",
       "<table border=\"1\" class=\"dataframe\">\n",
       "  <thead>\n",
       "    <tr style=\"text-align: right;\">\n",
       "      <th></th>\n",
       "      <th>age</th>\n",
       "      <th>sex</th>\n",
       "      <th>cp</th>\n",
       "      <th>trestbps</th>\n",
       "      <th>chol</th>\n",
       "      <th>fbs</th>\n",
       "      <th>restecg</th>\n",
       "      <th>thalach</th>\n",
       "      <th>exang</th>\n",
       "      <th>oldpeak</th>\n",
       "      <th>slope</th>\n",
       "      <th>num</th>\n",
       "    </tr>\n",
       "  </thead>\n",
       "  <tbody>\n",
       "    <tr>\n",
       "      <th>190</th>\n",
       "      <td>51</td>\n",
       "      <td>0</td>\n",
       "      <td>4</td>\n",
       "      <td>114.0</td>\n",
       "      <td>258.0</td>\n",
       "      <td>1.0</td>\n",
       "      <td>2</td>\n",
       "      <td>96.0</td>\n",
       "      <td>0.0</td>\n",
       "      <td>1.0</td>\n",
       "      <td>1.0</td>\n",
       "      <td>0</td>\n",
       "    </tr>\n",
       "    <tr>\n",
       "      <th>191</th>\n",
       "      <td>62</td>\n",
       "      <td>1</td>\n",
       "      <td>4</td>\n",
       "      <td>160.0</td>\n",
       "      <td>254.0</td>\n",
       "      <td>1.0</td>\n",
       "      <td>1</td>\n",
       "      <td>108.0</td>\n",
       "      <td>1.0</td>\n",
       "      <td>3.0</td>\n",
       "      <td>2.0</td>\n",
       "      <td>1</td>\n",
       "    </tr>\n",
       "    <tr>\n",
       "      <th>192</th>\n",
       "      <td>53</td>\n",
       "      <td>1</td>\n",
       "      <td>4</td>\n",
       "      <td>144.0</td>\n",
       "      <td>300.0</td>\n",
       "      <td>1.0</td>\n",
       "      <td>1</td>\n",
       "      <td>128.0</td>\n",
       "      <td>1.0</td>\n",
       "      <td>1.5</td>\n",
       "      <td>2.0</td>\n",
       "      <td>1</td>\n",
       "    </tr>\n",
       "    <tr>\n",
       "      <th>193</th>\n",
       "      <td>62</td>\n",
       "      <td>1</td>\n",
       "      <td>4</td>\n",
       "      <td>158.0</td>\n",
       "      <td>170.0</td>\n",
       "      <td>0.0</td>\n",
       "      <td>1</td>\n",
       "      <td>138.0</td>\n",
       "      <td>1.0</td>\n",
       "      <td>0.0</td>\n",
       "      <td>NaN</td>\n",
       "      <td>1</td>\n",
       "    </tr>\n",
       "    <tr>\n",
       "      <th>194</th>\n",
       "      <td>46</td>\n",
       "      <td>1</td>\n",
       "      <td>4</td>\n",
       "      <td>134.0</td>\n",
       "      <td>310.0</td>\n",
       "      <td>0.0</td>\n",
       "      <td>0</td>\n",
       "      <td>126.0</td>\n",
       "      <td>0.0</td>\n",
       "      <td>0.0</td>\n",
       "      <td>NaN</td>\n",
       "      <td>1</td>\n",
       "    </tr>\n",
       "    <tr>\n",
       "      <th>195</th>\n",
       "      <td>54</td>\n",
       "      <td>0</td>\n",
       "      <td>4</td>\n",
       "      <td>127.0</td>\n",
       "      <td>333.0</td>\n",
       "      <td>1.0</td>\n",
       "      <td>1</td>\n",
       "      <td>154.0</td>\n",
       "      <td>0.0</td>\n",
       "      <td>0.0</td>\n",
       "      <td>NaN</td>\n",
       "      <td>1</td>\n",
       "    </tr>\n",
       "    <tr>\n",
       "      <th>196</th>\n",
       "      <td>62</td>\n",
       "      <td>1</td>\n",
       "      <td>1</td>\n",
       "      <td>NaN</td>\n",
       "      <td>139.0</td>\n",
       "      <td>0.0</td>\n",
       "      <td>1</td>\n",
       "      <td>NaN</td>\n",
       "      <td>NaN</td>\n",
       "      <td>NaN</td>\n",
       "      <td>NaN</td>\n",
       "      <td>0</td>\n",
       "    </tr>\n",
       "    <tr>\n",
       "      <th>197</th>\n",
       "      <td>55</td>\n",
       "      <td>1</td>\n",
       "      <td>4</td>\n",
       "      <td>122.0</td>\n",
       "      <td>223.0</td>\n",
       "      <td>1.0</td>\n",
       "      <td>1</td>\n",
       "      <td>100.0</td>\n",
       "      <td>0.0</td>\n",
       "      <td>0.0</td>\n",
       "      <td>NaN</td>\n",
       "      <td>1</td>\n",
       "    </tr>\n",
       "    <tr>\n",
       "      <th>198</th>\n",
       "      <td>58</td>\n",
       "      <td>1</td>\n",
       "      <td>4</td>\n",
       "      <td>NaN</td>\n",
       "      <td>385.0</td>\n",
       "      <td>1.0</td>\n",
       "      <td>2</td>\n",
       "      <td>NaN</td>\n",
       "      <td>NaN</td>\n",
       "      <td>NaN</td>\n",
       "      <td>NaN</td>\n",
       "      <td>0</td>\n",
       "    </tr>\n",
       "    <tr>\n",
       "      <th>199</th>\n",
       "      <td>62</td>\n",
       "      <td>1</td>\n",
       "      <td>2</td>\n",
       "      <td>120.0</td>\n",
       "      <td>254.0</td>\n",
       "      <td>0.0</td>\n",
       "      <td>2</td>\n",
       "      <td>93.0</td>\n",
       "      <td>1.0</td>\n",
       "      <td>0.0</td>\n",
       "      <td>NaN</td>\n",
       "      <td>1</td>\n",
       "    </tr>\n",
       "  </tbody>\n",
       "</table>\n",
       "</div>"
      ],
      "text/plain": [
       "     age  sex  cp  trestbps   chol  fbs  restecg  thalach  exang  oldpeak  \\\n",
       "190   51    0   4     114.0  258.0  1.0        2     96.0    0.0      1.0   \n",
       "191   62    1   4     160.0  254.0  1.0        1    108.0    1.0      3.0   \n",
       "192   53    1   4     144.0  300.0  1.0        1    128.0    1.0      1.5   \n",
       "193   62    1   4     158.0  170.0  0.0        1    138.0    1.0      0.0   \n",
       "194   46    1   4     134.0  310.0  0.0        0    126.0    0.0      0.0   \n",
       "195   54    0   4     127.0  333.0  1.0        1    154.0    0.0      0.0   \n",
       "196   62    1   1       NaN  139.0  0.0        1      NaN    NaN      NaN   \n",
       "197   55    1   4     122.0  223.0  1.0        1    100.0    0.0      0.0   \n",
       "198   58    1   4       NaN  385.0  1.0        2      NaN    NaN      NaN   \n",
       "199   62    1   2     120.0  254.0  0.0        2     93.0    1.0      0.0   \n",
       "\n",
       "     slope  num  \n",
       "190    1.0    0  \n",
       "191    2.0    1  \n",
       "192    2.0    1  \n",
       "193    NaN    1  \n",
       "194    NaN    1  \n",
       "195    NaN    1  \n",
       "196    NaN    0  \n",
       "197    NaN    1  \n",
       "198    NaN    0  \n",
       "199    NaN    1  "
      ]
     },
     "execution_count": 54,
     "metadata": {},
     "output_type": "execute_result"
    }
   ],
   "source": [
    "df.tail(10)"
   ]
  },
  {
   "cell_type": "code",
   "execution_count": 8,
   "metadata": {},
   "outputs": [
    {
     "data": {
      "text/plain": [
       "(200, 14)"
      ]
     },
     "execution_count": 8,
     "metadata": {},
     "output_type": "execute_result"
    }
   ],
   "source": [
    "df.shape"
   ]
  },
  {
   "cell_type": "code",
   "execution_count": 9,
   "metadata": {},
   "outputs": [
    {
     "data": {
      "text/plain": [
       "age          int64\n",
       "sex          int64\n",
       "cp           int64\n",
       "trestbps    object\n",
       "chol        object\n",
       "fbs         object\n",
       "restecg      int64\n",
       "thalach     object\n",
       "exang       object\n",
       "oldpeak     object\n",
       "slope       object\n",
       "ca          object\n",
       "thal        object\n",
       "num          int64\n",
       "dtype: object"
      ]
     },
     "execution_count": 9,
     "metadata": {},
     "output_type": "execute_result"
    }
   ],
   "source": [
    "df.dtypes"
   ]
  },
  {
   "cell_type": "code",
   "execution_count": 45,
   "metadata": {},
   "outputs": [],
   "source": [
    "col=[\"trestbps\",\"chol\",\"fbs\",\"thalach\",\"exang\",\"oldpeak\",\"slope\",\"ca\",\"thal\"]\n",
    "df[col]=df[col].apply(pd.to_numeric,errors=\"coerce\",axis=1)"
   ]
  },
  {
   "cell_type": "code",
   "execution_count": 46,
   "metadata": {},
   "outputs": [
    {
     "data": {
      "text/plain": [
       "age           int64\n",
       "sex           int64\n",
       "cp            int64\n",
       "trestbps    float64\n",
       "chol        float64\n",
       "fbs         float64\n",
       "restecg       int64\n",
       "thalach     float64\n",
       "exang       float64\n",
       "oldpeak     float64\n",
       "slope       float64\n",
       "ca          float64\n",
       "thal        float64\n",
       "num           int64\n",
       "dtype: object"
      ]
     },
     "execution_count": 46,
     "metadata": {},
     "output_type": "execute_result"
    }
   ],
   "source": [
    "df.dtypes"
   ]
  },
  {
   "cell_type": "code",
   "execution_count": 47,
   "metadata": {},
   "outputs": [
    {
     "data": {
      "text/html": [
       "<div>\n",
       "<style scoped>\n",
       "    .dataframe tbody tr th:only-of-type {\n",
       "        vertical-align: middle;\n",
       "    }\n",
       "\n",
       "    .dataframe tbody tr th {\n",
       "        vertical-align: top;\n",
       "    }\n",
       "\n",
       "    .dataframe thead th {\n",
       "        text-align: right;\n",
       "    }\n",
       "</style>\n",
       "<table border=\"1\" class=\"dataframe\">\n",
       "  <thead>\n",
       "    <tr style=\"text-align: right;\">\n",
       "      <th></th>\n",
       "      <th>age</th>\n",
       "      <th>sex</th>\n",
       "      <th>cp</th>\n",
       "      <th>trestbps</th>\n",
       "      <th>chol</th>\n",
       "      <th>fbs</th>\n",
       "      <th>restecg</th>\n",
       "      <th>thalach</th>\n",
       "      <th>exang</th>\n",
       "      <th>oldpeak</th>\n",
       "      <th>slope</th>\n",
       "      <th>ca</th>\n",
       "      <th>thal</th>\n",
       "      <th>num</th>\n",
       "    </tr>\n",
       "  </thead>\n",
       "  <tbody>\n",
       "    <tr>\n",
       "      <th>age</th>\n",
       "      <td>1.000000</td>\n",
       "      <td>0.034230</td>\n",
       "      <td>-0.038280</td>\n",
       "      <td>0.210980</td>\n",
       "      <td>0.069138</td>\n",
       "      <td>0.127817</td>\n",
       "      <td>0.002400</td>\n",
       "      <td>-0.174125</td>\n",
       "      <td>0.156823</td>\n",
       "      <td>0.183086</td>\n",
       "      <td>0.148603</td>\n",
       "      <td>NaN</td>\n",
       "      <td>0.176430</td>\n",
       "      <td>0.189692</td>\n",
       "    </tr>\n",
       "    <tr>\n",
       "      <th>sex</th>\n",
       "      <td>0.034230</td>\n",
       "      <td>1.000000</td>\n",
       "      <td>0.038036</td>\n",
       "      <td>0.013820</td>\n",
       "      <td>-0.096204</td>\n",
       "      <td>-0.055372</td>\n",
       "      <td>0.060621</td>\n",
       "      <td>-0.001747</td>\n",
       "      <td>0.018155</td>\n",
       "      <td>0.106811</td>\n",
       "      <td>0.124613</td>\n",
       "      <td>NaN</td>\n",
       "      <td>-0.138675</td>\n",
       "      <td>0.098854</td>\n",
       "    </tr>\n",
       "    <tr>\n",
       "      <th>cp</th>\n",
       "      <td>-0.038280</td>\n",
       "      <td>0.038036</td>\n",
       "      <td>1.000000</td>\n",
       "      <td>0.097246</td>\n",
       "      <td>0.066279</td>\n",
       "      <td>-0.047701</td>\n",
       "      <td>0.034790</td>\n",
       "      <td>-0.160306</td>\n",
       "      <td>0.235935</td>\n",
       "      <td>0.055933</td>\n",
       "      <td>0.047762</td>\n",
       "      <td>NaN</td>\n",
       "      <td>0.213339</td>\n",
       "      <td>0.256614</td>\n",
       "    </tr>\n",
       "    <tr>\n",
       "      <th>trestbps</th>\n",
       "      <td>0.210980</td>\n",
       "      <td>0.013820</td>\n",
       "      <td>0.097246</td>\n",
       "      <td>1.000000</td>\n",
       "      <td>0.176922</td>\n",
       "      <td>0.226024</td>\n",
       "      <td>0.106918</td>\n",
       "      <td>-0.013177</td>\n",
       "      <td>0.222550</td>\n",
       "      <td>0.118022</td>\n",
       "      <td>0.109788</td>\n",
       "      <td>NaN</td>\n",
       "      <td>0.230130</td>\n",
       "      <td>0.096073</td>\n",
       "    </tr>\n",
       "    <tr>\n",
       "      <th>chol</th>\n",
       "      <td>0.069138</td>\n",
       "      <td>-0.096204</td>\n",
       "      <td>0.066279</td>\n",
       "      <td>0.176922</td>\n",
       "      <td>1.000000</td>\n",
       "      <td>0.160850</td>\n",
       "      <td>0.025154</td>\n",
       "      <td>-0.048269</td>\n",
       "      <td>0.102016</td>\n",
       "      <td>0.001549</td>\n",
       "      <td>0.080450</td>\n",
       "      <td>NaN</td>\n",
       "      <td>-0.171315</td>\n",
       "      <td>0.019060</td>\n",
       "    </tr>\n",
       "    <tr>\n",
       "      <th>fbs</th>\n",
       "      <td>0.127817</td>\n",
       "      <td>-0.055372</td>\n",
       "      <td>-0.047701</td>\n",
       "      <td>0.226024</td>\n",
       "      <td>0.160850</td>\n",
       "      <td>1.000000</td>\n",
       "      <td>0.167657</td>\n",
       "      <td>0.061682</td>\n",
       "      <td>-0.259299</td>\n",
       "      <td>-0.122122</td>\n",
       "      <td>0.023457</td>\n",
       "      <td>NaN</td>\n",
       "      <td>0.059924</td>\n",
       "      <td>0.089535</td>\n",
       "    </tr>\n",
       "    <tr>\n",
       "      <th>restecg</th>\n",
       "      <td>0.002400</td>\n",
       "      <td>0.060621</td>\n",
       "      <td>0.034790</td>\n",
       "      <td>0.106918</td>\n",
       "      <td>0.025154</td>\n",
       "      <td>0.167657</td>\n",
       "      <td>1.000000</td>\n",
       "      <td>0.014274</td>\n",
       "      <td>-0.093141</td>\n",
       "      <td>-0.123890</td>\n",
       "      <td>-0.027817</td>\n",
       "      <td>NaN</td>\n",
       "      <td>0.110871</td>\n",
       "      <td>-0.059146</td>\n",
       "    </tr>\n",
       "    <tr>\n",
       "      <th>thalach</th>\n",
       "      <td>-0.174125</td>\n",
       "      <td>-0.001747</td>\n",
       "      <td>-0.160306</td>\n",
       "      <td>-0.013177</td>\n",
       "      <td>-0.048269</td>\n",
       "      <td>0.061682</td>\n",
       "      <td>0.014274</td>\n",
       "      <td>1.000000</td>\n",
       "      <td>-0.075057</td>\n",
       "      <td>0.179167</td>\n",
       "      <td>-0.164124</td>\n",
       "      <td>NaN</td>\n",
       "      <td>-0.414599</td>\n",
       "      <td>-0.051548</td>\n",
       "    </tr>\n",
       "    <tr>\n",
       "      <th>exang</th>\n",
       "      <td>0.156823</td>\n",
       "      <td>0.018155</td>\n",
       "      <td>0.235935</td>\n",
       "      <td>0.222550</td>\n",
       "      <td>0.102016</td>\n",
       "      <td>-0.259299</td>\n",
       "      <td>-0.093141</td>\n",
       "      <td>-0.075057</td>\n",
       "      <td>1.000000</td>\n",
       "      <td>0.314143</td>\n",
       "      <td>0.149392</td>\n",
       "      <td>NaN</td>\n",
       "      <td>0.258353</td>\n",
       "      <td>0.299270</td>\n",
       "    </tr>\n",
       "    <tr>\n",
       "      <th>oldpeak</th>\n",
       "      <td>0.183086</td>\n",
       "      <td>0.106811</td>\n",
       "      <td>0.055933</td>\n",
       "      <td>0.118022</td>\n",
       "      <td>0.001549</td>\n",
       "      <td>-0.122122</td>\n",
       "      <td>-0.123890</td>\n",
       "      <td>0.179167</td>\n",
       "      <td>0.314143</td>\n",
       "      <td>1.000000</td>\n",
       "      <td>0.331319</td>\n",
       "      <td>NaN</td>\n",
       "      <td>0.209410</td>\n",
       "      <td>0.268736</td>\n",
       "    </tr>\n",
       "    <tr>\n",
       "      <th>slope</th>\n",
       "      <td>0.148603</td>\n",
       "      <td>0.124613</td>\n",
       "      <td>0.047762</td>\n",
       "      <td>0.109788</td>\n",
       "      <td>0.080450</td>\n",
       "      <td>0.023457</td>\n",
       "      <td>-0.027817</td>\n",
       "      <td>-0.164124</td>\n",
       "      <td>0.149392</td>\n",
       "      <td>0.331319</td>\n",
       "      <td>1.000000</td>\n",
       "      <td>NaN</td>\n",
       "      <td>-0.027751</td>\n",
       "      <td>0.084862</td>\n",
       "    </tr>\n",
       "    <tr>\n",
       "      <th>ca</th>\n",
       "      <td>NaN</td>\n",
       "      <td>NaN</td>\n",
       "      <td>NaN</td>\n",
       "      <td>NaN</td>\n",
       "      <td>NaN</td>\n",
       "      <td>NaN</td>\n",
       "      <td>NaN</td>\n",
       "      <td>NaN</td>\n",
       "      <td>NaN</td>\n",
       "      <td>NaN</td>\n",
       "      <td>NaN</td>\n",
       "      <td>NaN</td>\n",
       "      <td>NaN</td>\n",
       "      <td>NaN</td>\n",
       "    </tr>\n",
       "    <tr>\n",
       "      <th>thal</th>\n",
       "      <td>0.176430</td>\n",
       "      <td>-0.138675</td>\n",
       "      <td>0.213339</td>\n",
       "      <td>0.230130</td>\n",
       "      <td>-0.171315</td>\n",
       "      <td>0.059924</td>\n",
       "      <td>0.110871</td>\n",
       "      <td>-0.414599</td>\n",
       "      <td>0.258353</td>\n",
       "      <td>0.209410</td>\n",
       "      <td>-0.027751</td>\n",
       "      <td>NaN</td>\n",
       "      <td>1.000000</td>\n",
       "      <td>0.182692</td>\n",
       "    </tr>\n",
       "    <tr>\n",
       "      <th>num</th>\n",
       "      <td>0.189692</td>\n",
       "      <td>0.098854</td>\n",
       "      <td>0.256614</td>\n",
       "      <td>0.096073</td>\n",
       "      <td>0.019060</td>\n",
       "      <td>0.089535</td>\n",
       "      <td>-0.059146</td>\n",
       "      <td>-0.051548</td>\n",
       "      <td>0.299270</td>\n",
       "      <td>0.268736</td>\n",
       "      <td>0.084862</td>\n",
       "      <td>NaN</td>\n",
       "      <td>0.182692</td>\n",
       "      <td>1.000000</td>\n",
       "    </tr>\n",
       "  </tbody>\n",
       "</table>\n",
       "</div>"
      ],
      "text/plain": [
       "               age       sex        cp  trestbps      chol       fbs  \\\n",
       "age       1.000000  0.034230 -0.038280  0.210980  0.069138  0.127817   \n",
       "sex       0.034230  1.000000  0.038036  0.013820 -0.096204 -0.055372   \n",
       "cp       -0.038280  0.038036  1.000000  0.097246  0.066279 -0.047701   \n",
       "trestbps  0.210980  0.013820  0.097246  1.000000  0.176922  0.226024   \n",
       "chol      0.069138 -0.096204  0.066279  0.176922  1.000000  0.160850   \n",
       "fbs       0.127817 -0.055372 -0.047701  0.226024  0.160850  1.000000   \n",
       "restecg   0.002400  0.060621  0.034790  0.106918  0.025154  0.167657   \n",
       "thalach  -0.174125 -0.001747 -0.160306 -0.013177 -0.048269  0.061682   \n",
       "exang     0.156823  0.018155  0.235935  0.222550  0.102016 -0.259299   \n",
       "oldpeak   0.183086  0.106811  0.055933  0.118022  0.001549 -0.122122   \n",
       "slope     0.148603  0.124613  0.047762  0.109788  0.080450  0.023457   \n",
       "ca             NaN       NaN       NaN       NaN       NaN       NaN   \n",
       "thal      0.176430 -0.138675  0.213339  0.230130 -0.171315  0.059924   \n",
       "num       0.189692  0.098854  0.256614  0.096073  0.019060  0.089535   \n",
       "\n",
       "           restecg   thalach     exang   oldpeak     slope  ca      thal  \\\n",
       "age       0.002400 -0.174125  0.156823  0.183086  0.148603 NaN  0.176430   \n",
       "sex       0.060621 -0.001747  0.018155  0.106811  0.124613 NaN -0.138675   \n",
       "cp        0.034790 -0.160306  0.235935  0.055933  0.047762 NaN  0.213339   \n",
       "trestbps  0.106918 -0.013177  0.222550  0.118022  0.109788 NaN  0.230130   \n",
       "chol      0.025154 -0.048269  0.102016  0.001549  0.080450 NaN -0.171315   \n",
       "fbs       0.167657  0.061682 -0.259299 -0.122122  0.023457 NaN  0.059924   \n",
       "restecg   1.000000  0.014274 -0.093141 -0.123890 -0.027817 NaN  0.110871   \n",
       "thalach   0.014274  1.000000 -0.075057  0.179167 -0.164124 NaN -0.414599   \n",
       "exang    -0.093141 -0.075057  1.000000  0.314143  0.149392 NaN  0.258353   \n",
       "oldpeak  -0.123890  0.179167  0.314143  1.000000  0.331319 NaN  0.209410   \n",
       "slope    -0.027817 -0.164124  0.149392  0.331319  1.000000 NaN -0.027751   \n",
       "ca             NaN       NaN       NaN       NaN       NaN NaN       NaN   \n",
       "thal      0.110871 -0.414599  0.258353  0.209410 -0.027751 NaN  1.000000   \n",
       "num      -0.059146 -0.051548  0.299270  0.268736  0.084862 NaN  0.182692   \n",
       "\n",
       "               num  \n",
       "age       0.189692  \n",
       "sex       0.098854  \n",
       "cp        0.256614  \n",
       "trestbps  0.096073  \n",
       "chol      0.019060  \n",
       "fbs       0.089535  \n",
       "restecg  -0.059146  \n",
       "thalach  -0.051548  \n",
       "exang     0.299270  \n",
       "oldpeak   0.268736  \n",
       "slope     0.084862  \n",
       "ca             NaN  \n",
       "thal      0.182692  \n",
       "num       1.000000  "
      ]
     },
     "execution_count": 47,
     "metadata": {},
     "output_type": "execute_result"
    }
   ],
   "source": [
    "df.corr()"
   ]
  },
  {
   "cell_type": "code",
   "execution_count": 49,
   "metadata": {},
   "outputs": [
    {
     "data": {
      "text/plain": [
       "age           0\n",
       "sex           0\n",
       "cp            0\n",
       "trestbps     56\n",
       "chol          7\n",
       "fbs           7\n",
       "restecg       0\n",
       "thalach      53\n",
       "exang        53\n",
       "oldpeak      56\n",
       "slope       102\n",
       "ca          198\n",
       "thal        166\n",
       "num           0\n",
       "dtype: int64"
      ]
     },
     "execution_count": 49,
     "metadata": {},
     "output_type": "execute_result"
    }
   ],
   "source": [
    "df.isnull().sum()"
   ]
  },
  {
   "cell_type": "code",
   "execution_count": 56,
   "metadata": {},
   "outputs": [],
   "source": [
    "from sklearn.impute import SimpleImputer\n",
    "imp=SimpleImputer(strategy=\"mean\")\n",
    "list1=[\"trestbps\",\"chol\",\"thalach\",\"oldpeak\"]\n",
    "for i in list1:\n",
    "     df[i]=imp.fit_transform(df[i].values.reshape(-1,1))"
   ]
  },
  {
   "cell_type": "code",
   "execution_count": 57,
   "metadata": {},
   "outputs": [],
   "source": [
    "from sklearn.impute import SimpleImputer\n",
    "imp=SimpleImputer(strategy=\"most_frequent\")\n",
    "list1=[\"fbs\",\"exang\",\"slope\"]\n",
    "for i in list1:\n",
    "     df[i]=imp.fit_transform(df[i].values.reshape(-1,1))"
   ]
  },
  {
   "cell_type": "code",
   "execution_count": 58,
   "metadata": {},
   "outputs": [
    {
     "data": {
      "text/plain": [
       "age         0\n",
       "sex         0\n",
       "cp          0\n",
       "trestbps    0\n",
       "chol        0\n",
       "fbs         0\n",
       "restecg     0\n",
       "thalach     0\n",
       "exang       0\n",
       "oldpeak     0\n",
       "slope       0\n",
       "num         0\n",
       "dtype: int64"
      ]
     },
     "execution_count": 58,
     "metadata": {},
     "output_type": "execute_result"
    }
   ],
   "source": [
    "df.isnull().sum()"
   ]
  },
  {
   "cell_type": "code",
   "execution_count": null,
   "metadata": {},
   "outputs": [],
   "source": []
  },
  {
   "cell_type": "code",
   "execution_count": 50,
   "metadata": {},
   "outputs": [],
   "source": [
    "#dropping ca as max values is null\n",
    "df.drop(\"ca\",inplace=True,axis=1)"
   ]
  },
  {
   "cell_type": "code",
   "execution_count": 52,
   "metadata": {},
   "outputs": [],
   "source": [
    "df.drop(\"thal\",inplace=True,axis=1)"
   ]
  },
  {
   "cell_type": "code",
   "execution_count": 53,
   "metadata": {},
   "outputs": [
    {
     "data": {
      "text/html": [
       "<div>\n",
       "<style scoped>\n",
       "    .dataframe tbody tr th:only-of-type {\n",
       "        vertical-align: middle;\n",
       "    }\n",
       "\n",
       "    .dataframe tbody tr th {\n",
       "        vertical-align: top;\n",
       "    }\n",
       "\n",
       "    .dataframe thead th {\n",
       "        text-align: right;\n",
       "    }\n",
       "</style>\n",
       "<table border=\"1\" class=\"dataframe\">\n",
       "  <thead>\n",
       "    <tr style=\"text-align: right;\">\n",
       "      <th></th>\n",
       "      <th>age</th>\n",
       "      <th>sex</th>\n",
       "      <th>cp</th>\n",
       "      <th>trestbps</th>\n",
       "      <th>chol</th>\n",
       "      <th>fbs</th>\n",
       "      <th>restecg</th>\n",
       "      <th>thalach</th>\n",
       "      <th>exang</th>\n",
       "      <th>oldpeak</th>\n",
       "      <th>slope</th>\n",
       "      <th>num</th>\n",
       "    </tr>\n",
       "  </thead>\n",
       "  <tbody>\n",
       "    <tr>\n",
       "      <th>0</th>\n",
       "      <td>63</td>\n",
       "      <td>1</td>\n",
       "      <td>4</td>\n",
       "      <td>140.0</td>\n",
       "      <td>260.0</td>\n",
       "      <td>0.0</td>\n",
       "      <td>1</td>\n",
       "      <td>112.0</td>\n",
       "      <td>1.0</td>\n",
       "      <td>3.0</td>\n",
       "      <td>2.0</td>\n",
       "      <td>1</td>\n",
       "    </tr>\n",
       "    <tr>\n",
       "      <th>1</th>\n",
       "      <td>44</td>\n",
       "      <td>1</td>\n",
       "      <td>4</td>\n",
       "      <td>130.0</td>\n",
       "      <td>209.0</td>\n",
       "      <td>0.0</td>\n",
       "      <td>1</td>\n",
       "      <td>127.0</td>\n",
       "      <td>0.0</td>\n",
       "      <td>0.0</td>\n",
       "      <td>NaN</td>\n",
       "      <td>0</td>\n",
       "    </tr>\n",
       "    <tr>\n",
       "      <th>2</th>\n",
       "      <td>60</td>\n",
       "      <td>1</td>\n",
       "      <td>4</td>\n",
       "      <td>132.0</td>\n",
       "      <td>218.0</td>\n",
       "      <td>0.0</td>\n",
       "      <td>1</td>\n",
       "      <td>140.0</td>\n",
       "      <td>1.0</td>\n",
       "      <td>1.5</td>\n",
       "      <td>3.0</td>\n",
       "      <td>1</td>\n",
       "    </tr>\n",
       "    <tr>\n",
       "      <th>3</th>\n",
       "      <td>55</td>\n",
       "      <td>1</td>\n",
       "      <td>4</td>\n",
       "      <td>142.0</td>\n",
       "      <td>228.0</td>\n",
       "      <td>0.0</td>\n",
       "      <td>1</td>\n",
       "      <td>149.0</td>\n",
       "      <td>1.0</td>\n",
       "      <td>2.5</td>\n",
       "      <td>1.0</td>\n",
       "      <td>1</td>\n",
       "    </tr>\n",
       "    <tr>\n",
       "      <th>4</th>\n",
       "      <td>66</td>\n",
       "      <td>1</td>\n",
       "      <td>3</td>\n",
       "      <td>110.0</td>\n",
       "      <td>213.0</td>\n",
       "      <td>1.0</td>\n",
       "      <td>2</td>\n",
       "      <td>99.0</td>\n",
       "      <td>1.0</td>\n",
       "      <td>1.3</td>\n",
       "      <td>2.0</td>\n",
       "      <td>0</td>\n",
       "    </tr>\n",
       "    <tr>\n",
       "      <th>...</th>\n",
       "      <td>...</td>\n",
       "      <td>...</td>\n",
       "      <td>...</td>\n",
       "      <td>...</td>\n",
       "      <td>...</td>\n",
       "      <td>...</td>\n",
       "      <td>...</td>\n",
       "      <td>...</td>\n",
       "      <td>...</td>\n",
       "      <td>...</td>\n",
       "      <td>...</td>\n",
       "      <td>...</td>\n",
       "    </tr>\n",
       "    <tr>\n",
       "      <th>195</th>\n",
       "      <td>54</td>\n",
       "      <td>0</td>\n",
       "      <td>4</td>\n",
       "      <td>127.0</td>\n",
       "      <td>333.0</td>\n",
       "      <td>1.0</td>\n",
       "      <td>1</td>\n",
       "      <td>154.0</td>\n",
       "      <td>0.0</td>\n",
       "      <td>0.0</td>\n",
       "      <td>NaN</td>\n",
       "      <td>1</td>\n",
       "    </tr>\n",
       "    <tr>\n",
       "      <th>196</th>\n",
       "      <td>62</td>\n",
       "      <td>1</td>\n",
       "      <td>1</td>\n",
       "      <td>NaN</td>\n",
       "      <td>139.0</td>\n",
       "      <td>0.0</td>\n",
       "      <td>1</td>\n",
       "      <td>NaN</td>\n",
       "      <td>NaN</td>\n",
       "      <td>NaN</td>\n",
       "      <td>NaN</td>\n",
       "      <td>0</td>\n",
       "    </tr>\n",
       "    <tr>\n",
       "      <th>197</th>\n",
       "      <td>55</td>\n",
       "      <td>1</td>\n",
       "      <td>4</td>\n",
       "      <td>122.0</td>\n",
       "      <td>223.0</td>\n",
       "      <td>1.0</td>\n",
       "      <td>1</td>\n",
       "      <td>100.0</td>\n",
       "      <td>0.0</td>\n",
       "      <td>0.0</td>\n",
       "      <td>NaN</td>\n",
       "      <td>1</td>\n",
       "    </tr>\n",
       "    <tr>\n",
       "      <th>198</th>\n",
       "      <td>58</td>\n",
       "      <td>1</td>\n",
       "      <td>4</td>\n",
       "      <td>NaN</td>\n",
       "      <td>385.0</td>\n",
       "      <td>1.0</td>\n",
       "      <td>2</td>\n",
       "      <td>NaN</td>\n",
       "      <td>NaN</td>\n",
       "      <td>NaN</td>\n",
       "      <td>NaN</td>\n",
       "      <td>0</td>\n",
       "    </tr>\n",
       "    <tr>\n",
       "      <th>199</th>\n",
       "      <td>62</td>\n",
       "      <td>1</td>\n",
       "      <td>2</td>\n",
       "      <td>120.0</td>\n",
       "      <td>254.0</td>\n",
       "      <td>0.0</td>\n",
       "      <td>2</td>\n",
       "      <td>93.0</td>\n",
       "      <td>1.0</td>\n",
       "      <td>0.0</td>\n",
       "      <td>NaN</td>\n",
       "      <td>1</td>\n",
       "    </tr>\n",
       "  </tbody>\n",
       "</table>\n",
       "<p>200 rows × 12 columns</p>\n",
       "</div>"
      ],
      "text/plain": [
       "     age  sex  cp  trestbps   chol  fbs  restecg  thalach  exang  oldpeak  \\\n",
       "0     63    1   4     140.0  260.0  0.0        1    112.0    1.0      3.0   \n",
       "1     44    1   4     130.0  209.0  0.0        1    127.0    0.0      0.0   \n",
       "2     60    1   4     132.0  218.0  0.0        1    140.0    1.0      1.5   \n",
       "3     55    1   4     142.0  228.0  0.0        1    149.0    1.0      2.5   \n",
       "4     66    1   3     110.0  213.0  1.0        2     99.0    1.0      1.3   \n",
       "..   ...  ...  ..       ...    ...  ...      ...      ...    ...      ...   \n",
       "195   54    0   4     127.0  333.0  1.0        1    154.0    0.0      0.0   \n",
       "196   62    1   1       NaN  139.0  0.0        1      NaN    NaN      NaN   \n",
       "197   55    1   4     122.0  223.0  1.0        1    100.0    0.0      0.0   \n",
       "198   58    1   4       NaN  385.0  1.0        2      NaN    NaN      NaN   \n",
       "199   62    1   2     120.0  254.0  0.0        2     93.0    1.0      0.0   \n",
       "\n",
       "     slope  num  \n",
       "0      2.0    1  \n",
       "1      NaN    0  \n",
       "2      3.0    1  \n",
       "3      1.0    1  \n",
       "4      2.0    0  \n",
       "..     ...  ...  \n",
       "195    NaN    1  \n",
       "196    NaN    0  \n",
       "197    NaN    1  \n",
       "198    NaN    0  \n",
       "199    NaN    1  \n",
       "\n",
       "[200 rows x 12 columns]"
      ]
     },
     "execution_count": 53,
     "metadata": {},
     "output_type": "execute_result"
    }
   ],
   "source": [
    "df"
   ]
  },
  {
   "cell_type": "code",
   "execution_count": null,
   "metadata": {},
   "outputs": [],
   "source": []
  },
  {
   "cell_type": "code",
   "execution_count": null,
   "metadata": {},
   "outputs": [],
   "source": []
  },
  {
   "cell_type": "code",
   "execution_count": 20,
   "metadata": {},
   "outputs": [],
   "source": [
    "#replacing 1,2,3,4 value with 1 as it represent the presence of heart disease\n",
    "df[\"num\"]=df[\"num\"].replace([1,2,3,4],1)"
   ]
  },
  {
   "cell_type": "code",
   "execution_count": null,
   "metadata": {},
   "outputs": [],
   "source": [
    "df['column name'] = df['column name'].replace(['old value'],'new value')"
   ]
  },
  {
   "cell_type": "code",
   "execution_count": 21,
   "metadata": {},
   "outputs": [
    {
     "data": {
      "text/plain": [
       "<matplotlib.axes._subplots.AxesSubplot at 0x2530ee5670>"
      ]
     },
     "execution_count": 21,
     "metadata": {},
     "output_type": "execute_result"
    },
    {
     "data": {
      "image/png": "[encoded data removed]",
      "text/plain": [
       "<Figure size 432x288 with 1 Axes>"
      ]
     },
     "metadata": {
      "needs_background": "light"
     },
     "output_type": "display_data"
    }
   ],
   "source": [
    "#we can se large number of patients are male and female ,where 0 is femal and 1 is male\n",
    "sns.countplot(x=\"num\",hue=\"sex\",data=df)"
   ]
  },
  {
   "cell_type": "code",
   "execution_count": 22,
   "metadata": {},
   "outputs": [
    {
     "data": {
      "text/plain": [
       "1    149\n",
       "0     51\n",
       "Name: num, dtype: int64"
      ]
     },
     "execution_count": 22,
     "metadata": {},
     "output_type": "execute_result"
    }
   ],
   "source": [
    "df.num.value_counts()"
   ]
  },
  {
   "cell_type": "code",
   "execution_count": 29,
   "metadata": {},
   "outputs": [
    {
     "data": {
      "text/plain": [
       "<seaborn.axisgrid.FacetGrid at 0x2531fb41f0>"
      ]
     },
     "execution_count": 29,
     "metadata": {},
     "output_type": "execute_result"
    },
    {
     "data": {
      "image/png": "[encoded data removed]",
      "text/plain": [
       "<Figure size 418.375x360 with 1 Axes>"
      ]
     },
     "metadata": {
      "needs_background": "light"
     },
     "output_type": "display_data"
    }
   ],
   "source": [
    "sns.relplot(x=\"age\",y=\"chol\",hue=\"num\",kind=\"scatter\",data=df)"
   ]
  },
  {
   "cell_type": "code",
   "execution_count": 42,
   "metadata": {},
   "outputs": [
    {
     "data": {
      "text/plain": [
       "<seaborn.axisgrid.FacetGrid at 0x2532b7fb80>"
      ]
     },
     "execution_count": 42,
     "metadata": {},
     "output_type": "execute_result"
    },
    {
     "data": {
      "image/png": "[encoded data removed]",
      "text/plain": [
       "<Figure size 418.375x360 with 1 Axes>"
      ]
     },
     "metadata": {
      "needs_background": "light"
     },
     "output_type": "display_data"
    }
   ],
   "source": [
    "#almost a negativ correlation we can see bw max heart rate and age\n",
    "sns.relplot(x=\"thalach\",y=\"age\",hue=\"num\",kind=\"scatter\",data=df)"
   ]
  },
  {
   "cell_type": "code",
   "execution_count": 44,
   "metadata": {},
   "outputs": [
    {
     "data": {
      "text/plain": [
       "age       -0.404091\n",
       "sex       -5.552105\n",
       "cp        -1.648734\n",
       "restecg    0.391463\n",
       "num       -1.132724\n",
       "dtype: float64"
      ]
     },
     "execution_count": 44,
     "metadata": {},
     "output_type": "execute_result"
    }
   ],
   "source": [
    "df.skew()"
   ]
  },
  {
   "cell_type": "code",
   "execution_count": 62,
   "metadata": {},
   "outputs": [
    {
     "data": {
      "text/plain": [
       "age        -0.404091\n",
       "sex        -5.552105\n",
       "cp         -1.648734\n",
       "trestbps   -1.511363\n",
       "chol       -0.571879\n",
       "fbs         0.680636\n",
       "restecg     0.391463\n",
       "thalach     0.148515\n",
       "exang      -1.102593\n",
       "oldpeak     0.423414\n",
       "slope       0.210521\n",
       "num        -1.132724\n",
       "dtype: float64"
      ]
     },
     "execution_count": 62,
     "metadata": {},
     "output_type": "execute_result"
    }
   ],
   "source": [
    "df.skew()"
   ]
  },
  {
   "cell_type": "code",
   "execution_count": 60,
   "metadata": {},
   "outputs": [
    {
     "data": {
      "text/plain": [
       "array([[<matplotlib.axes._subplots.AxesSubplot object at 0x0000002533D6AC70>,\n",
       "        <matplotlib.axes._subplots.AxesSubplot object at 0x0000002533E042B0>,\n",
       "        <matplotlib.axes._subplots.AxesSubplot object at 0x0000002533E2A970>],\n",
       "       [<matplotlib.axes._subplots.AxesSubplot object at 0x0000002533E5F130>,\n",
       "        <matplotlib.axes._subplots.AxesSubplot object at 0x0000002533E888B0>,\n",
       "        <matplotlib.axes._subplots.AxesSubplot object at 0x0000002532789DF0>],\n",
       "       [<matplotlib.axes._subplots.AxesSubplot object at 0x00000025327895B0>,\n",
       "        <matplotlib.axes._subplots.AxesSubplot object at 0x00000025327C2490>,\n",
       "        <matplotlib.axes._subplots.AxesSubplot object at 0x0000002532D2F190>],\n",
       "       [<matplotlib.axes._subplots.AxesSubplot object at 0x0000002532480850>,\n",
       "        <matplotlib.axes._subplots.AxesSubplot object at 0x00000025324ACCA0>,\n",
       "        <matplotlib.axes._subplots.AxesSubplot object at 0x00000025324E5130>]],\n",
       "      dtype=object)"
      ]
     },
     "execution_count": 60,
     "metadata": {},
     "output_type": "execute_result"
    },
    {
     "data": {
      "image/png": "[encoded data removed]",
      "text/plain": [
       "<Figure size 1152x720 with 12 Axes>"
      ]
     },
     "metadata": {
      "needs_background": "light"
     },
     "output_type": "display_data"
    }
   ],
   "source": [
    "df.hist(figsize=(16,10),bins=15)"
   ]
  },
  {
   "cell_type": "code",
   "execution_count": 64,
   "metadata": {},
   "outputs": [
    {
     "data": {
      "text/plain": [
       "age             AxesSubplot(0.125,0.71587;0.133621x0.16413)\n",
       "sex          AxesSubplot(0.285345,0.71587;0.133621x0.16413)\n",
       "cp            AxesSubplot(0.44569,0.71587;0.133621x0.16413)\n",
       "trestbps     AxesSubplot(0.606034,0.71587;0.133621x0.16413)\n",
       "chol         AxesSubplot(0.766379,0.71587;0.133621x0.16413)\n",
       "fbs            AxesSubplot(0.125,0.518913;0.133621x0.16413)\n",
       "restecg     AxesSubplot(0.285345,0.518913;0.133621x0.16413)\n",
       "thalach      AxesSubplot(0.44569,0.518913;0.133621x0.16413)\n",
       "exang       AxesSubplot(0.606034,0.518913;0.133621x0.16413)\n",
       "oldpeak     AxesSubplot(0.766379,0.518913;0.133621x0.16413)\n",
       "slope          AxesSubplot(0.125,0.321957;0.133621x0.16413)\n",
       "num         AxesSubplot(0.285345,0.321957;0.133621x0.16413)\n",
       "dtype: object"
      ]
     },
     "execution_count": 64,
     "metadata": {},
     "output_type": "execute_result"
    },
    {
     "data": {
      "image/png": "[encoded data removed]",
      "text/plain": [
       "<Figure size 1152x720 with 20 Axes>"
      ]
     },
     "metadata": {
      "needs_background": "light"
     },
     "output_type": "display_data"
    }
   ],
   "source": [
    "#it will show the outliers \n",
    "df.plot(kind=\"box\",subplots=True,layout=(4,5),figsize=(16,10))"
   ]
  },
  {
   "cell_type": "code",
   "execution_count": 65,
   "metadata": {},
   "outputs": [
    {
     "data": {
      "text/plain": [
       "(200, 12)"
      ]
     },
     "execution_count": 65,
     "metadata": {},
     "output_type": "execute_result"
    }
   ],
   "source": [
    "import scipy\n",
    "from scipy.stats import zscore\n",
    "z_score=abs(zscore(df))\n",
    "df.shape\n",
    "\n"
   ]
  },
  {
   "cell_type": "code",
   "execution_count": 66,
   "metadata": {},
   "outputs": [],
   "source": [
    "#removing all the outliers\n",
    "df_final1=df.loc[(abs(zscore(df))<3).all(axis=1)]"
   ]
  },
  {
   "cell_type": "code",
   "execution_count": 70,
   "metadata": {},
   "outputs": [
    {
     "data": {
      "text/plain": [
       "(181, 12)"
      ]
     },
     "execution_count": 70,
     "metadata": {},
     "output_type": "execute_result"
    }
   ],
   "source": [
    "#outliers have been removed\n",
    "df_final1.shape"
   ]
  },
  {
   "cell_type": "code",
   "execution_count": 68,
   "metadata": {},
   "outputs": [
    {
     "data": {
      "text/plain": [
       "age        -0.341400\n",
       "sex         0.000000\n",
       "cp         -1.414098\n",
       "trestbps    0.516323\n",
       "chol       -0.546859\n",
       "fbs         0.748785\n",
       "restecg     0.386145\n",
       "thalach    -0.064362\n",
       "exang      -1.207866\n",
       "oldpeak     0.445245\n",
       "slope       0.273012\n",
       "num        -1.243576\n",
       "dtype: float64"
      ]
     },
     "execution_count": 68,
     "metadata": {},
     "output_type": "execute_result"
    }
   ],
   "source": [
    "#due to outliers skewness has been removed too\n",
    "df_final1.skew()"
   ]
  },
  {
   "cell_type": "code",
   "execution_count": 71,
   "metadata": {},
   "outputs": [
    {
     "data": {
      "image/png": "[encoded data removed]",
      "text/plain": [
       "<Figure size 1152x720 with 2 Axes>"
      ]
     },
     "metadata": {
      "needs_background": "light"
     },
     "output_type": "display_data"
    }
   ],
   "source": [
    "#showing correlation among different varriable\n",
    "\n",
    "plt.figure(figsize=(16,10))\n",
    "sns.heatmap(df.corr(),annot=True)\n",
    "plt.show()"
   ]
  },
  {
   "cell_type": "code",
   "execution_count": 72,
   "metadata": {},
   "outputs": [],
   "source": [
    "X=df_final1.drop(\"num\",axis=1)"
   ]
  },
  {
   "cell_type": "code",
   "execution_count": 73,
   "metadata": {},
   "outputs": [],
   "source": [
    "Y=df_final1.num"
   ]
  },
  {
   "cell_type": "code",
   "execution_count": 74,
   "metadata": {},
   "outputs": [],
   "source": [
    "from sklearn.preprocessing import StandardScaler\n",
    "sc=StandardScaler()\n",
    "X=sc.fit_transform(X)"
   ]
  },
  {
   "cell_type": "code",
   "execution_count": 79,
   "metadata": {},
   "outputs": [],
   "source": [
    "x_train,x_test,y_train,y_test=train_test_split(X,Y,test_size=0.3,random_state=89,stratify=Y)"
   ]
  },
  {
   "cell_type": "code",
   "execution_count": 80,
   "metadata": {},
   "outputs": [],
   "source": [
    "KNN=KNeighborsClassifier()\n",
    "SV=SVC()\n",
    "LR=LogisticRegression()\n",
    "DT=DecisionTreeClassifier()\n",
    "GNB=GaussianNB()\n",
    "ABC=AdaBoostClassifier()\n",
    "GBC=GradientBoostingClassifier()\n",
    "RFC=RandomForestClassifier()"
   ]
  },
  {
   "cell_type": "code",
   "execution_count": 81,
   "metadata": {},
   "outputs": [],
   "source": [
    "model1=[]\n",
    "model1.append((\"KNeighborsClassifier\",KNN))\n",
    "model1.append((\"SVC\",SV))\n",
    "model1.append((\"DecisionTreeClassifier\",DT))\n",
    "model1.append((\"logistic regression\",LR))\n",
    "model1.append((\"AdaBoostClassifier\",ABC))\n",
    "model1.append((\"GradientBoostingClassifier\",GBC))\n",
    "model1.append((\"RandomForestClassifier\",RFC))"
   ]
  },
  {
   "cell_type": "code",
   "execution_count": 82,
   "metadata": {},
   "outputs": [
    {
     "name": "stdout",
     "output_type": "stream",
     "text": [
      "********************* KNeighborsClassifier ************\n",
      "\n",
      "\n",
      "KNeighborsClassifier()\n",
      "\n",
      "\n",
      "accuracy scoore =  0.8\n",
      "\n",
      "\n",
      "cross validation scr = 0.7839181286549708\n",
      "\n",
      "\n",
      "\n",
      "\n",
      "classification report               precision    recall  f1-score   support\n",
      "\n",
      "           0       0.60      0.46      0.52        13\n",
      "           1       0.84      0.90      0.87        42\n",
      "\n",
      "    accuracy                           0.80        55\n",
      "   macro avg       0.72      0.68      0.70        55\n",
      "weighted avg       0.79      0.80      0.79        55\n",
      "\n",
      "\n",
      "\n",
      "[[ 6  7]\n",
      " [ 4 38]]\n",
      "\n",
      "\n",
      "AxesSubplot(0.125,0.808774;0.62x0.0712264)\n",
      "********************* SVC ************\n",
      "\n",
      "\n",
      "SVC()\n",
      "\n",
      "\n",
      "accuracy scoore =  0.7818181818181819\n",
      "\n",
      "\n",
      "cross validation scr = 0.7564327485380117\n",
      "\n",
      "\n",
      "\n",
      "\n",
      "classification report               precision    recall  f1-score   support\n",
      "\n",
      "           0       0.60      0.23      0.33        13\n",
      "           1       0.80      0.95      0.87        42\n",
      "\n",
      "    accuracy                           0.78        55\n",
      "   macro avg       0.70      0.59      0.60        55\n",
      "weighted avg       0.75      0.78      0.74        55\n",
      "\n",
      "\n",
      "\n",
      "[[ 3 10]\n",
      " [ 2 40]]\n",
      "\n",
      "\n",
      "AxesSubplot(0.125,0.808774;0.62x0.0712264)\n",
      "********************* DecisionTreeClassifier ************\n",
      "\n",
      "\n",
      "DecisionTreeClassifier()\n",
      "\n",
      "\n",
      "accuracy scoore =  0.6727272727272727\n",
      "\n",
      "\n",
      "cross validation scr = 0.6400584795321638\n",
      "\n",
      "\n",
      "\n",
      "\n",
      "classification report               precision    recall  f1-score   support\n",
      "\n",
      "           0       0.37      0.54      0.44        13\n",
      "           1       0.83      0.71      0.77        42\n",
      "\n",
      "    accuracy                           0.67        55\n",
      "   macro avg       0.60      0.63      0.60        55\n",
      "weighted avg       0.72      0.67      0.69        55\n",
      "\n",
      "\n",
      "\n",
      "[[ 7  6]\n",
      " [12 30]]\n",
      "\n",
      "\n",
      "AxesSubplot(0.125,0.808774;0.62x0.0712264)\n",
      "********************* logistic regression ************\n",
      "\n",
      "\n",
      "LogisticRegression()\n",
      "\n",
      "\n",
      "accuracy scoore =  0.7818181818181819\n",
      "\n",
      "\n",
      "cross validation scr = 0.7675438596491228\n",
      "\n",
      "\n",
      "\n",
      "\n",
      "classification report               precision    recall  f1-score   support\n",
      "\n",
      "           0       0.56      0.38      0.45        13\n",
      "           1       0.83      0.90      0.86        42\n",
      "\n",
      "    accuracy                           0.78        55\n",
      "   macro avg       0.69      0.64      0.66        55\n",
      "weighted avg       0.76      0.78      0.77        55\n",
      "\n",
      "\n",
      "\n",
      "[[ 5  8]\n",
      " [ 4 38]]\n",
      "\n",
      "\n",
      "AxesSubplot(0.125,0.808774;0.62x0.0712264)\n",
      "********************* AdaBoostClassifier ************\n",
      "\n",
      "\n",
      "AdaBoostClassifier()\n",
      "\n",
      "\n",
      "accuracy scoore =  0.6363636363636364\n",
      "\n",
      "\n",
      "cross validation scr = 0.6792397660818714\n",
      "\n",
      "\n",
      "\n",
      "\n",
      "classification report               precision    recall  f1-score   support\n",
      "\n",
      "           0       0.29      0.38      0.33        13\n",
      "           1       0.79      0.71      0.75        42\n",
      "\n",
      "    accuracy                           0.64        55\n",
      "   macro avg       0.54      0.55      0.54        55\n",
      "weighted avg       0.67      0.64      0.65        55\n",
      "\n",
      "\n",
      "\n",
      "[[ 5  8]\n",
      " [12 30]]\n",
      "\n",
      "\n",
      "AxesSubplot(0.125,0.808774;0.62x0.0712264)\n",
      "********************* GradientBoostingClassifier ************\n",
      "\n",
      "\n",
      "GradientBoostingClassifier()\n",
      "\n",
      "\n",
      "accuracy scoore =  0.7272727272727273\n",
      "\n",
      "\n",
      "cross validation scr = 0.750877192982456\n",
      "\n",
      "\n",
      "\n",
      "\n",
      "classification report               precision    recall  f1-score   support\n",
      "\n",
      "           0       0.43      0.46      0.44        13\n",
      "           1       0.83      0.81      0.82        42\n",
      "\n",
      "    accuracy                           0.73        55\n",
      "   macro avg       0.63      0.64      0.63        55\n",
      "weighted avg       0.73      0.73      0.73        55\n",
      "\n",
      "\n",
      "\n",
      "[[ 6  7]\n",
      " [ 8 34]]\n",
      "\n",
      "\n",
      "AxesSubplot(0.125,0.808774;0.62x0.0712264)\n",
      "********************* RandomForestClassifier ************\n",
      "\n",
      "\n",
      "RandomForestClassifier()\n",
      "\n",
      "\n",
      "accuracy scoore =  0.7272727272727273\n",
      "\n",
      "\n",
      "cross validation scr = 0.7511695906432749\n",
      "\n",
      "\n",
      "\n",
      "\n",
      "classification report               precision    recall  f1-score   support\n",
      "\n",
      "           0       0.40      0.31      0.35        13\n",
      "           1       0.80      0.86      0.83        42\n",
      "\n",
      "    accuracy                           0.73        55\n",
      "   macro avg       0.60      0.58      0.59        55\n",
      "weighted avg       0.71      0.73      0.71        55\n",
      "\n",
      "\n",
      "\n",
      "[[ 4  9]\n",
      " [ 6 36]]\n",
      "\n",
      "\n",
      "AxesSubplot(0.125,0.808774;0.62x0.0712264)\n"
     ]
    },
    {
     "data": {
      "image/png": "[encoded data removed]",
      "text/plain": [
       "<Figure size 720x2880 with 2 Axes>"
      ]
     },
     "metadata": {
      "needs_background": "light"
     },
     "output_type": "display_data"
    },
    {
     "data": {
      "image/png": "[encoded data removed]",
      "text/plain": [
       "<Figure size 720x2880 with 2 Axes>"
      ]
     },
     "metadata": {
      "needs_background": "light"
     },
     "output_type": "display_data"
    },
    {
     "data": {
      "image/png": "[encoded data removed]",
      "text/plain": [
       "<Figure size 720x2880 with 2 Axes>"
      ]
     },
     "metadata": {
      "needs_background": "light"
     },
     "output_type": "display_data"
    },
    {
     "data": {
      "image/png": "[encoded data removed]",
      "text/plain": [
       "<Figure size 720x2880 with 2 Axes>"
      ]
     },
     "metadata": {
      "needs_background": "light"
     },
     "output_type": "display_data"
    },
    {
     "data": {
      "image/png": "[encoded data removed]",
      "text/plain": [
       "<Figure size 720x2880 with 2 Axes>"
      ]
     },
     "metadata": {
      "needs_background": "light"
     },
     "output_type": "display_data"
    },
    {
     "data": {
      "image/png": "[encoded data removed]",
      "text/plain": [
       "<Figure size 720x2880 with 2 Axes>"
      ]
     },
     "metadata": {
      "needs_background": "light"
     },
     "output_type": "display_data"
    },
    {
     "data": {
      "image/png": "[encoded data removed]",
      "text/plain": [
       "<Figure size 720x2880 with 2 Axes>"
      ]
     },
     "metadata": {
      "needs_background": "light"
     },
     "output_type": "display_data"
    }
   ],
   "source": [
    "model2=[]\n",
    "score=[]\n",
    "cvs=[]\n",
    "rocscore=[]\n",
    "for name,md in model1:\n",
    "    print(\"*********************\",name,\"************\")\n",
    "    print(\"\\n\")\n",
    "    model2.append(name)\n",
    "    md.fit(x_train,y_train)\n",
    "    print(md)\n",
    "    y_pred=md.predict(x_test)\n",
    "    print(\"\\n\")\n",
    "    AS=accuracy_score(y_test,y_pred)\n",
    "    score.append(AS*100)\n",
    "    print(\"accuracy scoore = \",AS)\n",
    "    print(\"\\n\")\n",
    "    sc=cross_val_score(md,X,Y,cv=10,scoring=\"accuracy\").mean()\n",
    "    print(\"cross validation scr =\", sc)\n",
    "    cvs.append(sc*100)\n",
    "    print(\"\\n\")\n",
    "    \n",
    "    print(\"\\n\")\n",
    "    print(\"classification report\",classification_report(y_test,y_pred))\n",
    "    print(\"\\n\")\n",
    "    cm=confusion_matrix(y_test,y_pred)\n",
    "    print(cm)\n",
    "    print(\"\\n\")\n",
    "    plt.figure(figsize=(10,40))\n",
    "    plt.subplot(911)\n",
    "    plt.title(name)\n",
    "    print(sns.heatmap(cm,annot=True))\n"
   ]
  },
  {
   "cell_type": "code",
   "execution_count": 84,
   "metadata": {},
   "outputs": [
    {
     "data": {
      "text/plain": [
       "{'n_neighbors': 8}"
      ]
     },
     "execution_count": 84,
     "metadata": {},
     "output_type": "execute_result"
    }
   ],
   "source": [
    "#checking the best parameter for Kneighborsclassifier\n",
    "x1_train,x1_test,y1_train,y1_test=train_test_split(X,Y,test_size=0.33,random_state=89)\n",
    "parameters={\"n_neighbors\":range(1,25)}\n",
    "KNN=KNeighborsClassifier()\n",
    "gs=GridSearchCV(KNN,parameters)\n",
    "gs.fit(x1_train,y1_train)\n",
    "gs.best_params_"
   ]
  },
  {
   "cell_type": "code",
   "execution_count": 86,
   "metadata": {},
   "outputs": [
    {
     "name": "stdout",
     "output_type": "stream",
     "text": [
      "accuracy score : 0.8166666666666667\n"
     ]
    }
   ],
   "source": [
    "x_train,x_test,y_train,y_test=train_test_split(X,Y,test_size=0.33,random_state=89)\n",
    "KNN=KNeighborsClassifier(n_neighbors=8)\n",
    "KNN.fit(x_train,y_train)\n",
    "y_pred=KNN.predict(x_test)\n",
    "accr_scr=accuracy_score(y_test,y_pred)\n",
    "print(\"accuracy score :\",accr_scr)"
   ]
  },
  {
   "cell_type": "code",
   "execution_count": 88,
   "metadata": {},
   "outputs": [
    {
     "data": {
      "text/plain": [
       "array([0.875, 0.875, 0.625, 0.5  , 0.875, 0.625, 0.875, 0.75 , 0.875,\n",
       "       0.875, 0.625, 0.875, 0.75 , 0.875, 1.   , 0.625, 0.875, 1.   ,\n",
       "       0.875, 0.875, 0.625, 0.875, 0.75 , 0.75 , 0.75 , 0.625, 0.875,\n",
       "       0.75 , 0.125, 0.75 , 0.375, 0.875, 0.75 , 0.625, 0.75 , 1.   ,\n",
       "       0.625, 0.875, 0.875, 0.875, 0.875, 0.75 , 1.   , 0.875, 0.875,\n",
       "       0.75 , 0.625, 0.875, 0.875, 0.75 , 0.75 , 0.75 , 0.875, 0.875,\n",
       "       0.75 , 0.75 , 0.5  , 0.75 , 0.875, 1.   ])"
      ]
     },
     "execution_count": 88,
     "metadata": {},
     "output_type": "execute_result"
    }
   ],
   "source": [
    "pred_prob=KNN.predict_proba(x_test)[:,1]\n",
    "pred_prob"
   ]
  },
  {
   "cell_type": "code",
   "execution_count": 89,
   "metadata": {},
   "outputs": [],
   "source": [
    "fpr,tpr,thresholds=roc_curve(y1_test,pred_prob,pos_label=True)"
   ]
  },
  {
   "cell_type": "code",
   "execution_count": 90,
   "metadata": {},
   "outputs": [
    {
     "name": "stdout",
     "output_type": "stream",
     "text": [
      "[0.         0.         0.18181818 0.63636364 0.81818182 0.90909091\n",
      " 1.         1.        ]\n"
     ]
    }
   ],
   "source": [
    "print(fpr)"
   ]
  },
  {
   "cell_type": "code",
   "execution_count": 91,
   "metadata": {},
   "outputs": [
    {
     "name": "stdout",
     "output_type": "stream",
     "text": [
      "[0.         0.10204082 0.57142857 0.81632653 0.95918367 0.97959184\n",
      " 0.97959184 1.        ]\n"
     ]
    }
   ],
   "source": [
    "print(tpr)"
   ]
  },
  {
   "cell_type": "code",
   "execution_count": 92,
   "metadata": {},
   "outputs": [
    {
     "name": "stdout",
     "output_type": "stream",
     "text": [
      "[2.    1.    0.875 0.75  0.625 0.5   0.375 0.125]\n"
     ]
    }
   ],
   "source": [
    "print(thresholds)"
   ]
  },
  {
   "cell_type": "code",
   "execution_count": 93,
   "metadata": {},
   "outputs": [
    {
     "data": {
      "image/png": "[encoded data removed]",
      "text/plain": [
       "<Figure size 432x288 with 1 Axes>"
      ]
     },
     "metadata": {
      "needs_background": "light"
     },
     "output_type": "display_data"
    }
   ],
   "source": [
    "#plotting on graph\n",
    "plt.plot([0,1],[1,0],\"k--\")\n",
    "plt.plot(fpr,tpr,label=\"KNeighbourClassifier\")\n",
    "plt.xlabel(\"False positive rate\")\n",
    "plt.ylabel(\"true positive rate\")\n",
    "plt.show()"
   ]
  },
  {
   "cell_type": "code",
   "execution_count": null,
   "metadata": {},
   "outputs": [],
   "source": []
  }
 ],
 "metadata": {
  "kernelspec": {
   "display_name": "Python 3",
   "language": "python",
   "name": "python3"
  },
  "language_info": {
   "codemirror_mode": {
    "name": "ipython",
    "version": 3
   },
   "file_extension": ".py",
   "mimetype": "text/x-python",
   "name": "python",
   "nbconvert_exporter": "python",
   "pygments_lexer": "ipython3",
   "version": "3.8.3"
  }
 },
 "nbformat": 4,
 "nbformat_minor": 4
}
